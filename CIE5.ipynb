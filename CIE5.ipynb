{
  "nbformat": 4,
  "nbformat_minor": 0,
  "metadata": {
    "colab": {
      "provenance": [],
      "authorship_tag": "ABX9TyMYDLfiC8eFzPz9HeDAL1Tv",
      "include_colab_link": true
    },
    "kernelspec": {
      "name": "python3",
      "display_name": "Python 3"
    },
    "language_info": {
      "name": "python"
    }
  },
  "cells": [
    {
      "cell_type": "markdown",
      "metadata": {
        "id": "view-in-github",
        "colab_type": "text"
      },
      "source": [
        "<a href=\"https://colab.research.google.com/github/basu-2007/aiml0/blob/main/CIE5.ipynb\" target=\"_parent\"><img src=\"https://colab.research.google.com/assets/colab-badge.svg\" alt=\"Open In Colab\"/></a>"
      ]
    },
    {
      "cell_type": "code",
      "execution_count": 1,
      "metadata": {
        "colab": {
          "base_uri": "https://localhost:8080/"
        },
        "id": "uTnu28LsnXYd",
        "outputId": "c643e7b1-d179-4499-81d8-7fd109ba01c5"
      },
      "outputs": [
        {
          "output_type": "stream",
          "name": "stdout",
          "text": [
            "[(AI, is), (is, simulation), (simulation, of), (of, human), (human, intelligence), (intelligence, by), (by, machine), (machine, .), (., It), (It, includes), (includes, expects), (expects, system), (system, NLP), (NLP, speech), (speech, recognition), (recognition, and), (and, machine), (machine, vision)]\n"
          ]
        }
      ],
      "source": [
        "import spacy\n",
        "from nltk import ngrams\n",
        "nlp=spacy.load(\"en_core_web_sm\")\n",
        "doc=nlp(\"AI is simulation of human intelligence by machine.It includes expects system NLP speech recognition and machine vision\")\n",
        "bigrams=ngrams(doc,n=2)\n",
        "print(list(bigrams))"
      ]
    },
    {
      "cell_type": "code",
      "source": [
        "import spacy\n",
        "from nltk import ngrams\n",
        "nlp=spacy.load(\"en_core_web_sm\")\n",
        "doc=nlp(\"AI is simulation of human intelligence by machine.It includes expects system NLP speech recognition and machine vision\")\n",
        "trigram=ngrams(doc,3)\n",
        "print(list(trigram))"
      ],
      "metadata": {
        "colab": {
          "base_uri": "https://localhost:8080/"
        },
        "id": "VKp1ncRLngPA",
        "outputId": "d62702c6-b2e8-4a20-bdbf-12effae50b6c"
      },
      "execution_count": 5,
      "outputs": [
        {
          "output_type": "stream",
          "name": "stdout",
          "text": [
            "[(AI, is, simulation), (is, simulation, of), (simulation, of, human), (of, human, intelligence), (human, intelligence, by), (intelligence, by, machine), (by, machine, .), (machine, ., It), (., It, includes), (It, includes, expects), (includes, expects, system), (expects, system, NLP), (system, NLP, speech), (NLP, speech, recognition), (speech, recognition, and), (recognition, and, machine), (and, machine, vision)]\n"
          ]
        }
      ]
    }
  ]
}